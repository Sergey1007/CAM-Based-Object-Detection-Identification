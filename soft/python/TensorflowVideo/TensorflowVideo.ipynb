{
 "cells": [
  {
   "cell_type": "markdown",
   "id": "96adddba",
   "metadata": {},
   "source": [
    "# Нейронная сеть для нахождения теннисного мяча \n"
   ]
  },
  {
   "cell_type": "code",
   "execution_count": null,
   "id": "14ceb322",
   "metadata": {},
   "outputs": [],
   "source": []
  },
  {
   "cell_type": "code",
   "execution_count": 17,
   "id": "25e3e5ac",
   "metadata": {},
   "outputs": [],
   "source": [
    "import os\n",
    "import pathlib\n",
    "\n",
    "\n",
    "if \"models\" in pathlib.Path.cwd().parts:\n",
    "    while \"models\" in pathlib.Path.cwd().parts:\n",
    "        os.chdir('..')\n",
    "elif not pathlib.Path('models').exists():\n",
    "    !git clone --depth 1 https://github.com/tensorflow/models"
   ]
  },
  {
   "cell_type": "code",
   "execution_count": 18,
   "id": "65fc85f9",
   "metadata": {},
   "outputs": [],
   "source": [
    "import numpy as np\n",
    "import os\n",
    "import six.moves.urllib as urllib\n",
    "import sys\n",
    "import tarfile\n",
    "import tensorflow as tf\n",
    "import zipfile\n",
    "import pathlib\n",
    "import cv2\n",
    "\n",
    "from datetime import datetime\n",
    "from collections import defaultdict\n",
    "from io import StringIO\n",
    "from matplotlib import pyplot as plt\n",
    "from PIL import Image\n",
    "from IPython.display import display\n",
    "from object_detection.utils import ops as utils_ops\n",
    "from object_detection.utils import label_map_util\n",
    "from object_detection.utils import visualization_utils as vis_util"
   ]
  },
  {
   "cell_type": "code",
   "execution_count": 19,
   "id": "0f7daf53",
   "metadata": {},
   "outputs": [],
   "source": [
    "# patch tf1 into `utils.ops`\n",
    "utils_ops.tf = tf.compat.v1\n",
    "\n",
    "# Patch the location of gfile\n",
    "tf.gfile = tf.io.gfile"
   ]
  },
  {
   "cell_type": "code",
   "execution_count": 20,
   "id": "bdb1f045",
   "metadata": {},
   "outputs": [],
   "source": [
    "def load_model(model_name):\n",
    "    base_url = 'http://download.tensorflow.org/models/object_detection/'\n",
    "    model_file = model_name + '.tar.gz'\n",
    "    model_dir = tf.keras.utils.get_file(\n",
    "        fname=model_name, \n",
    "        origin=base_url + model_file,\n",
    "        untar=True)\n",
    "\n",
    "    model_dir = pathlib.Path(model_dir)/\"saved_model\"\n",
    "\n",
    "    model = tf.saved_model.load(str(model_dir))\n",
    "    model = model.signatures['serving_default']\n",
    "\n",
    "    return model"
   ]
  },
  {
   "cell_type": "code",
   "execution_count": 21,
   "id": "34ae32c9",
   "metadata": {},
   "outputs": [],
   "source": [
    "# List of the strings that is used to add correct label for each box.\n",
    "PATH_TO_LABELS = 'models/research/object_detection/data/mscoco_label_map.pbtxt'\n",
    "category_index = label_map_util.create_category_index_from_labelmap(PATH_TO_LABELS, use_display_name=True)"
   ]
  },
  {
   "cell_type": "code",
   "execution_count": 22,
   "id": "5bdcce57",
   "metadata": {},
   "outputs": [
    {
     "data": {
      "text/plain": [
       "[WindowsPath('C:/Users/nambe/Testing/photood/pedestrian-person-people-road-street-sitting-canada-infrastructure-quebec-personne-sherbrooke-human-positions-263384.jpg'),\n",
       " WindowsPath('C:/Users/nambe/Testing/photood/test2201.jpg')]"
      ]
     },
     "execution_count": 22,
     "metadata": {},
     "output_type": "execute_result"
    }
   ],
   "source": [
    "# If you want to test the code with your images, just add path to the images to the TEST_IMAGE_PATHS.\n",
    "PATH_TO_TEST_IMAGES_DIR = pathlib.Path('C:/Users/nambe/Testing/photood')\n",
    "TEST_IMAGE_PATHS = sorted(list(PATH_TO_TEST_IMAGES_DIR.glob(\"*.jpg\")))\n",
    "TEST_IMAGE_PATHS"
   ]
  },
  {
   "cell_type": "code",
   "execution_count": 23,
   "id": "04e9cf5d",
   "metadata": {},
   "outputs": [
    {
     "name": "stdout",
     "output_type": "stream",
     "text": [
      "INFO:tensorflow:Saver not created because there are no variables in the graph to restore\n"
     ]
    }
   ],
   "source": [
    "model_name = 'ssd_mobilenet_v1_coco_2017_11_17'\n",
    "detection_model = load_model(model_name)"
   ]
  },
  {
   "cell_type": "code",
   "execution_count": 24,
   "id": "df5d2192",
   "metadata": {},
   "outputs": [
    {
     "name": "stdout",
     "output_type": "stream",
     "text": [
      "[<tf.Tensor 'image_tensor:0' shape=(None, None, None, 3) dtype=uint8>]\n"
     ]
    }
   ],
   "source": [
    "print(detection_model.inputs)"
   ]
  },
  {
   "cell_type": "code",
   "execution_count": 25,
   "id": "f25e023e",
   "metadata": {},
   "outputs": [
    {
     "data": {
      "text/plain": [
       "{'detection_boxes': tf.float32,\n",
       " 'detection_scores': tf.float32,\n",
       " 'detection_classes': tf.float32,\n",
       " 'num_detections': tf.float32}"
      ]
     },
     "execution_count": 25,
     "metadata": {},
     "output_type": "execute_result"
    }
   ],
   "source": [
    "detection_model.output_dtypes"
   ]
  },
  {
   "cell_type": "code",
   "execution_count": 26,
   "id": "3e757560",
   "metadata": {},
   "outputs": [
    {
     "data": {
      "text/plain": [
       "{'detection_boxes': TensorShape([None, 100, 4]),\n",
       " 'detection_scores': TensorShape([None, 100]),\n",
       " 'detection_classes': TensorShape([None, 100]),\n",
       " 'num_detections': TensorShape([None])}"
      ]
     },
     "execution_count": 26,
     "metadata": {},
     "output_type": "execute_result"
    }
   ],
   "source": [
    "detection_model.output_shapes"
   ]
  },
  {
   "cell_type": "code",
   "execution_count": 27,
   "id": "b2941863",
   "metadata": {},
   "outputs": [],
   "source": [
    "def run_inference_for_single_image(model, image):\n",
    "    image = np.asarray(image)\n",
    "  # The input needs to be a tensor, convert it using `tf.convert_to_tensor`.\n",
    "    input_tensor = tf.convert_to_tensor(image)\n",
    "  # The model expects a batch of images, so add an axis with `tf.newaxis`.\n",
    "    input_tensor = input_tensor[tf.newaxis,...]\n",
    "\n",
    "  # Run inference\n",
    "    output_dict = model(input_tensor)\n",
    "\n",
    "  # All outputs are batches tensors.\n",
    "  # Convert to numpy arrays, and take index [0] to remove the batch dimension.\n",
    "  # We're only interested in the first num_detections.\n",
    "    num_detections = int(output_dict.pop('num_detections'))\n",
    "    output_dict = {key:value[0, :num_detections].numpy() \n",
    "                    for key,value in output_dict.items()}\n",
    "    output_dict['num_detections'] = num_detections\n",
    "\n",
    "  # detection_classes should be ints.\n",
    "    output_dict['detection_classes'] = output_dict['detection_classes'].astype(np.int64)\n",
    "   \n",
    "  # Handle models with masks:\n",
    "    if 'detection_masks' in output_dict:\n",
    "    # Reframe the the bbox mask to the image size.\n",
    "        detection_masks_reframed = utils_ops.reframe_box_masks_to_image_masks(\n",
    "                    output_dict['detection_masks'], output_dict['detection_boxes'],\n",
    "                    image.shape[0], image.shape[1])      \n",
    "        detection_masks_reframed = tf.cast(detection_masks_reframed > 0.5,\n",
    "                                            tf.uint8)\n",
    "        output_dict['detection_masks_reframed'] = detection_masks_reframed.numpy()\n",
    "    \n",
    "    return output_dict"
   ]
  },
  {
   "cell_type": "code",
   "execution_count": 28,
   "id": "9f88cc50",
   "metadata": {},
   "outputs": [],
   "source": [
    "def show_inference(model, image_path):\n",
    "  # the array based representation of the image will be used later in order to prepare the\n",
    "  # result image with boxes and labels on it.\n",
    "    image_np = image_path\n",
    "    #image_np = cv2.cvtColor(image_np, cv2.COLOR_BGR2RGB)\n",
    "  # Actual detection.\n",
    "    output_dict = run_inference_for_single_image(model, image_np)\n",
    "  # Visualization of the results of a detection.\n",
    "    vis_util.visualize_boxes_and_labels_on_image_array(\n",
    "        image_np,\n",
    "        output_dict['detection_boxes'],\n",
    "        output_dict['detection_classes'],\n",
    "        output_dict['detection_scores'],\n",
    "        category_index,\n",
    "        instance_masks=output_dict.get('detection_masks_reframed', None),\n",
    "        use_normalized_coordinates=True,\n",
    "        line_thickness=8)\n",
    "    sports_ball_detection(image_np,output_dict['detection_classes'], output_dict['detection_scores'], output_dict['detection_boxes'])\n",
    "    return image_np"
   ]
  },
  {
   "cell_type": "code",
   "execution_count": 29,
   "id": "c7e8e7c3",
   "metadata": {},
   "outputs": [
    {
     "data": {
      "text/plain": [
       "{1: {'id': 1, 'name': 'person'},\n",
       " 2: {'id': 2, 'name': 'bicycle'},\n",
       " 3: {'id': 3, 'name': 'car'},\n",
       " 4: {'id': 4, 'name': 'motorcycle'},\n",
       " 5: {'id': 5, 'name': 'airplane'},\n",
       " 6: {'id': 6, 'name': 'bus'},\n",
       " 7: {'id': 7, 'name': 'train'},\n",
       " 8: {'id': 8, 'name': 'truck'},\n",
       " 9: {'id': 9, 'name': 'boat'},\n",
       " 10: {'id': 10, 'name': 'traffic light'},\n",
       " 11: {'id': 11, 'name': 'fire hydrant'},\n",
       " 13: {'id': 13, 'name': 'stop sign'},\n",
       " 14: {'id': 14, 'name': 'parking meter'},\n",
       " 15: {'id': 15, 'name': 'bench'},\n",
       " 16: {'id': 16, 'name': 'bird'},\n",
       " 17: {'id': 17, 'name': 'cat'},\n",
       " 18: {'id': 18, 'name': 'dog'},\n",
       " 19: {'id': 19, 'name': 'horse'},\n",
       " 20: {'id': 20, 'name': 'sheep'},\n",
       " 21: {'id': 21, 'name': 'cow'},\n",
       " 22: {'id': 22, 'name': 'elephant'},\n",
       " 23: {'id': 23, 'name': 'bear'},\n",
       " 24: {'id': 24, 'name': 'zebra'},\n",
       " 25: {'id': 25, 'name': 'giraffe'},\n",
       " 27: {'id': 27, 'name': 'backpack'},\n",
       " 28: {'id': 28, 'name': 'umbrella'},\n",
       " 31: {'id': 31, 'name': 'handbag'},\n",
       " 32: {'id': 32, 'name': 'tie'},\n",
       " 33: {'id': 33, 'name': 'suitcase'},\n",
       " 34: {'id': 34, 'name': 'frisbee'},\n",
       " 35: {'id': 35, 'name': 'skis'},\n",
       " 36: {'id': 36, 'name': 'snowboard'},\n",
       " 37: {'id': 37, 'name': 'sports ball'},\n",
       " 38: {'id': 38, 'name': 'kite'},\n",
       " 39: {'id': 39, 'name': 'baseball bat'},\n",
       " 40: {'id': 40, 'name': 'baseball glove'},\n",
       " 41: {'id': 41, 'name': 'skateboard'},\n",
       " 42: {'id': 42, 'name': 'surfboard'},\n",
       " 43: {'id': 43, 'name': 'tennis racket'},\n",
       " 44: {'id': 44, 'name': 'bottle'},\n",
       " 46: {'id': 46, 'name': 'wine glass'},\n",
       " 47: {'id': 47, 'name': 'cup'},\n",
       " 48: {'id': 48, 'name': 'fork'},\n",
       " 49: {'id': 49, 'name': 'knife'},\n",
       " 50: {'id': 50, 'name': 'spoon'},\n",
       " 51: {'id': 51, 'name': 'bowl'},\n",
       " 52: {'id': 52, 'name': 'banana'},\n",
       " 53: {'id': 53, 'name': 'apple'},\n",
       " 54: {'id': 54, 'name': 'sandwich'},\n",
       " 55: {'id': 55, 'name': 'orange'},\n",
       " 56: {'id': 56, 'name': 'broccoli'},\n",
       " 57: {'id': 57, 'name': 'carrot'},\n",
       " 58: {'id': 58, 'name': 'hot dog'},\n",
       " 59: {'id': 59, 'name': 'pizza'},\n",
       " 60: {'id': 60, 'name': 'donut'},\n",
       " 61: {'id': 61, 'name': 'cake'},\n",
       " 62: {'id': 62, 'name': 'chair'},\n",
       " 63: {'id': 63, 'name': 'couch'},\n",
       " 64: {'id': 64, 'name': 'potted plant'},\n",
       " 65: {'id': 65, 'name': 'bed'},\n",
       " 67: {'id': 67, 'name': 'dining table'},\n",
       " 70: {'id': 70, 'name': 'toilet'},\n",
       " 72: {'id': 72, 'name': 'tv'},\n",
       " 73: {'id': 73, 'name': 'laptop'},\n",
       " 74: {'id': 74, 'name': 'mouse'},\n",
       " 75: {'id': 75, 'name': 'remote'},\n",
       " 76: {'id': 76, 'name': 'keyboard'},\n",
       " 77: {'id': 77, 'name': 'cell phone'},\n",
       " 78: {'id': 78, 'name': 'microwave'},\n",
       " 79: {'id': 79, 'name': 'oven'},\n",
       " 80: {'id': 80, 'name': 'toaster'},\n",
       " 81: {'id': 81, 'name': 'sink'},\n",
       " 82: {'id': 82, 'name': 'refrigerator'},\n",
       " 84: {'id': 84, 'name': 'book'},\n",
       " 85: {'id': 85, 'name': 'clock'},\n",
       " 86: {'id': 86, 'name': 'vase'},\n",
       " 87: {'id': 87, 'name': 'scissors'},\n",
       " 88: {'id': 88, 'name': 'teddy bear'},\n",
       " 89: {'id': 89, 'name': 'hair drier'},\n",
       " 90: {'id': 90, 'name': 'toothbrush'}}"
      ]
     },
     "execution_count": 29,
     "metadata": {},
     "output_type": "execute_result"
    }
   ],
   "source": [
    "category_index\n"
   ]
  },
  {
   "cell_type": "code",
   "execution_count": 30,
   "id": "076c6db9",
   "metadata": {},
   "outputs": [],
   "source": [
    "\n",
    "def sports_ball_detection(image,classes,score,boxes):\n",
    "    \n",
    "    for i in range(10):\n",
    "        if(classes[i]==37 and score[i]>0.5):\n",
    "            \n",
    "            h,w=image.shape[0:2]\n",
    "            #image.shape=[height,width,3]\n",
    "            \n",
    "            ymin,xmin,ymax,xmax=boxes[i]\n",
    "            x_center = int(((xmin+xmax)/2)*w)\n",
    "            y_center = int(((ymin+ymax)/2)*h)\n",
    "        \n",
    "            \n",
    "            center=(x_center,y_center)\n",
    "            cv2.circle(image,center,10,(0,0,255),-1)"
   ]
  },
  {
   "cell_type": "code",
   "execution_count": 31,
   "id": "d644faa2",
   "metadata": {},
   "outputs": [],
   "source": [
    "\n",
    "video = cv2.VideoCapture(0)\n",
    "\n",
    "while True:\n",
    "    ret, frame = video.read()\n",
    "\n",
    "    show_inference(detection_model, frame)\n",
    "    cv2.imshow('Live', frame)\n",
    "    \n",
    "    \n",
    "    key_press = cv2.waitKey(30)\n",
    "    if key_press == ord('q'):\n",
    "        break\n",
    "        \n",
    "cv2.destroyAllWindows()"
   ]
  },
  {
   "cell_type": "code",
   "execution_count": null,
   "id": "41ecf0d2",
   "metadata": {},
   "outputs": [],
   "source": []
  }
 ],
 "metadata": {
  "kernelspec": {
   "display_name": "Python 3 (ipykernel)",
   "language": "python",
   "name": "python3"
  },
  "language_info": {
   "codemirror_mode": {
    "name": "ipython",
    "version": 3
   },
   "file_extension": ".py",
   "mimetype": "text/x-python",
   "name": "python",
   "nbconvert_exporter": "python",
   "pygments_lexer": "ipython3",
   "version": "3.9.12"
  }
 },
 "nbformat": 4,
 "nbformat_minor": 5
}
